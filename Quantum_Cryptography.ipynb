{
  "cells": [
    {
      "cell_type": "markdown",
      "metadata": {
        "id": "view-in-github",
        "colab_type": "text"
      },
      "source": [
        "<a href=\"https://colab.research.google.com/github/ShreyJais/Quantum-Computing/blob/main/Quantum_Cryptography.ipynb\" target=\"_parent\"><img src=\"https://colab.research.google.com/assets/colab-badge.svg\" alt=\"Open In Colab\"/></a>"
      ]
    },
    {
      "cell_type": "markdown",
      "metadata": {
        "id": "3ZyGwuu2THJe"
      },
      "source": [
        "# Quantum Cryptography: Quantum Key Distribution"
      ]
    },
    {
      "cell_type": "markdown",
      "metadata": {
        "id": "ISngXlf-n9n5"
      },
      "source": [
        "BB84 quantum key distribution (QKD) protocol. QKD uses quantum mechanics to generate a secure key for encrypting and decrypting messages."
      ]
    },
    {
      "cell_type": "markdown",
      "source": [
        "##Install & Import Module"
      ],
      "metadata": {
        "id": "uI2XUqJI5gXy"
      }
    },
    {
      "cell_type": "code",
      "source": [
        "!pip install qiskit[all]"
      ],
      "metadata": {
        "id": "OrMhfhh7ozff",
        "outputId": "a3705955-e626-477a-87a0-958382363440",
        "colab": {
          "base_uri": "https://localhost:8080/"
        }
      },
      "execution_count": 1,
      "outputs": [
        {
          "output_type": "stream",
          "name": "stdout",
          "text": [
            "Collecting qiskit[all]\n",
            "  Downloading qiskit-1.3.0-cp39-abi3-manylinux_2_17_x86_64.manylinux2014_x86_64.whl.metadata (12 kB)\n",
            "Collecting rustworkx>=0.15.0 (from qiskit[all])\n",
            "  Downloading rustworkx-0.15.1-cp38-abi3-manylinux_2_17_x86_64.manylinux2014_x86_64.whl.metadata (9.9 kB)\n",
            "Requirement already satisfied: numpy<3,>=1.17 in /usr/local/lib/python3.10/dist-packages (from qiskit[all]) (1.26.4)\n",
            "Requirement already satisfied: scipy>=1.5 in /usr/local/lib/python3.10/dist-packages (from qiskit[all]) (1.13.1)\n",
            "Requirement already satisfied: sympy>=1.3 in /usr/local/lib/python3.10/dist-packages (from qiskit[all]) (1.13.1)\n",
            "Collecting dill>=0.3 (from qiskit[all])\n",
            "  Downloading dill-0.3.9-py3-none-any.whl.metadata (10 kB)\n",
            "Requirement already satisfied: python-dateutil>=2.8.0 in /usr/local/lib/python3.10/dist-packages (from qiskit[all]) (2.8.2)\n",
            "Collecting stevedore>=3.0.0 (from qiskit[all])\n",
            "  Downloading stevedore-5.4.0-py3-none-any.whl.metadata (2.3 kB)\n",
            "Requirement already satisfied: typing-extensions in /usr/local/lib/python3.10/dist-packages (from qiskit[all]) (4.12.2)\n",
            "Collecting symengine<0.14,>=0.11 (from qiskit[all])\n",
            "  Downloading symengine-0.13.0-cp310-cp310-manylinux_2_17_x86_64.manylinux2014_x86_64.whl.metadata (1.2 kB)\n",
            "Requirement already satisfied: six>=1.5 in /usr/local/lib/python3.10/dist-packages (from python-dateutil>=2.8.0->qiskit[all]) (1.16.0)\n",
            "Collecting pbr>=2.0.0 (from stevedore>=3.0.0->qiskit[all])\n",
            "  Downloading pbr-6.1.0-py2.py3-none-any.whl.metadata (3.4 kB)\n",
            "Requirement already satisfied: mpmath<1.4,>=1.1.0 in /usr/local/lib/python3.10/dist-packages (from sympy>=1.3->qiskit[all]) (1.3.0)\n",
            "Collecting qiskit-qasm3-import>=0.1.0 (from qiskit[all])\n",
            "  Downloading qiskit_qasm3_import-0.5.1-py3-none-any.whl.metadata (7.2 kB)\n",
            "Collecting python-constraint>=1.4 (from qiskit[all])\n",
            "  Downloading python-constraint-1.4.0.tar.bz2 (18 kB)\n",
            "  Preparing metadata (setup.py) ... \u001b[?25l\u001b[?25hdone\n",
            "Collecting z3-solver>=4.7 (from qiskit[all])\n",
            "  Downloading z3_solver-4.13.3.0-py3-none-manylinux_2_17_x86_64.manylinux2014_x86_64.whl.metadata (602 bytes)\n",
            "Requirement already satisfied: matplotlib>=3.3 in /usr/local/lib/python3.10/dist-packages (from qiskit[all]) (3.8.0)\n",
            "Requirement already satisfied: pydot in /usr/local/lib/python3.10/dist-packages (from qiskit[all]) (3.0.3)\n",
            "Requirement already satisfied: Pillow>=4.2.1 in /usr/local/lib/python3.10/dist-packages (from qiskit[all]) (11.0.0)\n",
            "Collecting pylatexenc>=1.4 (from qiskit[all])\n",
            "  Downloading pylatexenc-2.10.tar.gz (162 kB)\n",
            "\u001b[2K     \u001b[90m━━━━━━━━━━━━━━━━━━━━━━━━━━━━━━━━━━━━━━━━\u001b[0m \u001b[32m162.6/162.6 kB\u001b[0m \u001b[31m6.9 MB/s\u001b[0m eta \u001b[36m0:00:00\u001b[0m\n",
            "\u001b[?25h  Preparing metadata (setup.py) ... \u001b[?25l\u001b[?25hdone\n",
            "Requirement already satisfied: seaborn>=0.9.0 in /usr/local/lib/python3.10/dist-packages (from qiskit[all]) (0.13.2)\n",
            "Requirement already satisfied: contourpy>=1.0.1 in /usr/local/lib/python3.10/dist-packages (from matplotlib>=3.3->qiskit[all]) (1.3.1)\n",
            "Requirement already satisfied: cycler>=0.10 in /usr/local/lib/python3.10/dist-packages (from matplotlib>=3.3->qiskit[all]) (0.12.1)\n",
            "Requirement already satisfied: fonttools>=4.22.0 in /usr/local/lib/python3.10/dist-packages (from matplotlib>=3.3->qiskit[all]) (4.55.1)\n",
            "Requirement already satisfied: kiwisolver>=1.0.1 in /usr/local/lib/python3.10/dist-packages (from matplotlib>=3.3->qiskit[all]) (1.4.7)\n",
            "Requirement already satisfied: packaging>=20.0 in /usr/local/lib/python3.10/dist-packages (from matplotlib>=3.3->qiskit[all]) (24.2)\n",
            "Requirement already satisfied: pyparsing>=2.3.1 in /usr/local/lib/python3.10/dist-packages (from matplotlib>=3.3->qiskit[all]) (3.2.0)\n",
            "Collecting openqasm3<2.0,>=0.4 (from openqasm3[parser]<2.0,>=0.4->qiskit-qasm3-import>=0.1.0->qiskit[all])\n",
            "  Downloading openqasm3-1.0.0-py3-none-any.whl.metadata (6.0 kB)\n",
            "Requirement already satisfied: pandas>=1.2 in /usr/local/lib/python3.10/dist-packages (from seaborn>=0.9.0->qiskit[all]) (2.2.2)\n",
            "Collecting antlr4-python3-runtime<4.14,>=4.7 (from openqasm3[parser]<2.0,>=0.4->qiskit-qasm3-import>=0.1.0->qiskit[all])\n",
            "  Downloading antlr4_python3_runtime-4.13.2-py3-none-any.whl.metadata (304 bytes)\n",
            "Requirement already satisfied: pytz>=2020.1 in /usr/local/lib/python3.10/dist-packages (from pandas>=1.2->seaborn>=0.9.0->qiskit[all]) (2024.2)\n",
            "Requirement already satisfied: tzdata>=2022.7 in /usr/local/lib/python3.10/dist-packages (from pandas>=1.2->seaborn>=0.9.0->qiskit[all]) (2024.2)\n",
            "Downloading dill-0.3.9-py3-none-any.whl (119 kB)\n",
            "\u001b[2K   \u001b[90m━━━━━━━━━━━━━━━━━━━━━━━━━━━━━━━━━━━━━━━━\u001b[0m \u001b[32m119.4/119.4 kB\u001b[0m \u001b[31m11.9 MB/s\u001b[0m eta \u001b[36m0:00:00\u001b[0m\n",
            "\u001b[?25hDownloading rustworkx-0.15.1-cp38-abi3-manylinux_2_17_x86_64.manylinux2014_x86_64.whl (2.0 MB)\n",
            "\u001b[2K   \u001b[90m━━━━━━━━━━━━━━━━━━━━━━━━━━━━━━━━━━━━━━━━\u001b[0m \u001b[32m2.0/2.0 MB\u001b[0m \u001b[31m53.5 MB/s\u001b[0m eta \u001b[36m0:00:00\u001b[0m\n",
            "\u001b[?25hDownloading stevedore-5.4.0-py3-none-any.whl (49 kB)\n",
            "\u001b[2K   \u001b[90m━━━━━━━━━━━━━━━━━━━━━━━━━━━━━━━━━━━━━━━━\u001b[0m \u001b[32m49.5/49.5 kB\u001b[0m \u001b[31m4.8 MB/s\u001b[0m eta \u001b[36m0:00:00\u001b[0m\n",
            "\u001b[?25hDownloading symengine-0.13.0-cp310-cp310-manylinux_2_17_x86_64.manylinux2014_x86_64.whl (49.7 MB)\n",
            "\u001b[2K   \u001b[90m━━━━━━━━━━━━━━━━━━━━━━━━━━━━━━━━━━━━━━━━\u001b[0m \u001b[32m49.7/49.7 MB\u001b[0m \u001b[31m19.7 MB/s\u001b[0m eta \u001b[36m0:00:00\u001b[0m\n",
            "\u001b[?25hDownloading qiskit-1.3.0-cp39-abi3-manylinux_2_17_x86_64.manylinux2014_x86_64.whl (6.7 MB)\n",
            "\u001b[2K   \u001b[90m━━━━━━━━━━━━━━━━━━━━━━━━━━━━━━━━━━━━━━━━\u001b[0m \u001b[32m6.7/6.7 MB\u001b[0m \u001b[31m102.7 MB/s\u001b[0m eta \u001b[36m0:00:00\u001b[0m\n",
            "\u001b[?25hDownloading pbr-6.1.0-py2.py3-none-any.whl (108 kB)\n",
            "\u001b[2K   \u001b[90m━━━━━━━━━━━━━━━━━━━━━━━━━━━━━━━━━━━━━━━━\u001b[0m \u001b[32m108.5/108.5 kB\u001b[0m \u001b[31m10.5 MB/s\u001b[0m eta \u001b[36m0:00:00\u001b[0m\n",
            "\u001b[?25hDownloading qiskit_qasm3_import-0.5.1-py3-none-any.whl (27 kB)\n",
            "Downloading z3_solver-4.13.3.0-py3-none-manylinux_2_17_x86_64.manylinux2014_x86_64.whl (28.1 MB)\n",
            "\u001b[2K   \u001b[90m━━━━━━━━━━━━━━━━━━━━━━━━━━━━━━━━━━━━━━━━\u001b[0m \u001b[32m28.1/28.1 MB\u001b[0m \u001b[31m72.2 MB/s\u001b[0m eta \u001b[36m0:00:00\u001b[0m\n",
            "\u001b[?25hDownloading openqasm3-1.0.0-py3-none-any.whl (539 kB)\n",
            "\u001b[2K   \u001b[90m━━━━━━━━━━━━━━━━━━━━━━━━━━━━━━━━━━━━━━━━\u001b[0m \u001b[32m539.8/539.8 kB\u001b[0m \u001b[31m43.8 MB/s\u001b[0m eta \u001b[36m0:00:00\u001b[0m\n",
            "\u001b[?25hDownloading antlr4_python3_runtime-4.13.2-py3-none-any.whl (144 kB)\n",
            "\u001b[2K   \u001b[90m━━━━━━━━━━━━━━━━━━━━━━━━━━━━━━━━━━━━━━━━\u001b[0m \u001b[32m144.5/144.5 kB\u001b[0m \u001b[31m14.5 MB/s\u001b[0m eta \u001b[36m0:00:00\u001b[0m\n",
            "\u001b[?25hBuilding wheels for collected packages: pylatexenc, python-constraint\n",
            "  Building wheel for pylatexenc (setup.py) ... \u001b[?25l\u001b[?25hdone\n",
            "  Created wheel for pylatexenc: filename=pylatexenc-2.10-py3-none-any.whl size=136816 sha256=3ae47b52412ae253d0afde62d65cafd3eaf8a37c75bc0b9c03e3e647493cee3c\n",
            "  Stored in directory: /root/.cache/pip/wheels/d3/31/8b/e09b0386afd80cfc556c00408c9aeea5c35c4d484a9c762fd5\n",
            "  Building wheel for python-constraint (setup.py) ... \u001b[?25l\u001b[?25hdone\n",
            "  Created wheel for python-constraint: filename=python_constraint-1.4.0-py2.py3-none-any.whl size=24059 sha256=937bb54c2e07f29a0cd149576b8ed9f07b08cb95ebdbb24c6a4ab06d09879ab7\n",
            "  Stored in directory: /root/.cache/pip/wheels/2e/f2/2b/cb08b5fe129e4f69b7033061f256e5c551b0aa1160c2872aee\n",
            "Successfully built pylatexenc python-constraint\n",
            "Installing collected packages: z3-solver, python-constraint, pylatexenc, openqasm3, antlr4-python3-runtime, symengine, rustworkx, pbr, dill, stevedore, qiskit, qiskit-qasm3-import\n",
            "Successfully installed antlr4-python3-runtime-4.13.2 dill-0.3.9 openqasm3-1.0.0 pbr-6.1.0 pylatexenc-2.10 python-constraint-1.4.0 qiskit-1.3.0 qiskit-qasm3-import-0.5.1 rustworkx-0.15.1 stevedore-5.4.0 symengine-0.13.0 z3-solver-4.13.3.0\n"
          ]
        }
      ]
    },
    {
      "cell_type": "code",
      "source": [
        "!pip install qiskit\n",
        "!pip install qiskit-aer"
      ],
      "metadata": {
        "id": "Qd0qrIw9o4uk",
        "outputId": "1ca2f5c7-7e5c-4a5a-99e8-f3fefa6d226b",
        "colab": {
          "base_uri": "https://localhost:8080/"
        }
      },
      "execution_count": 2,
      "outputs": [
        {
          "output_type": "stream",
          "name": "stdout",
          "text": [
            "Requirement already satisfied: qiskit in /usr/local/lib/python3.10/dist-packages (1.3.0)\n",
            "Requirement already satisfied: rustworkx>=0.15.0 in /usr/local/lib/python3.10/dist-packages (from qiskit) (0.15.1)\n",
            "Requirement already satisfied: numpy<3,>=1.17 in /usr/local/lib/python3.10/dist-packages (from qiskit) (1.26.4)\n",
            "Requirement already satisfied: scipy>=1.5 in /usr/local/lib/python3.10/dist-packages (from qiskit) (1.13.1)\n",
            "Requirement already satisfied: sympy>=1.3 in /usr/local/lib/python3.10/dist-packages (from qiskit) (1.13.1)\n",
            "Requirement already satisfied: dill>=0.3 in /usr/local/lib/python3.10/dist-packages (from qiskit) (0.3.9)\n",
            "Requirement already satisfied: python-dateutil>=2.8.0 in /usr/local/lib/python3.10/dist-packages (from qiskit) (2.8.2)\n",
            "Requirement already satisfied: stevedore>=3.0.0 in /usr/local/lib/python3.10/dist-packages (from qiskit) (5.4.0)\n",
            "Requirement already satisfied: typing-extensions in /usr/local/lib/python3.10/dist-packages (from qiskit) (4.12.2)\n",
            "Requirement already satisfied: symengine<0.14,>=0.11 in /usr/local/lib/python3.10/dist-packages (from qiskit) (0.13.0)\n",
            "Requirement already satisfied: six>=1.5 in /usr/local/lib/python3.10/dist-packages (from python-dateutil>=2.8.0->qiskit) (1.16.0)\n",
            "Requirement already satisfied: pbr>=2.0.0 in /usr/local/lib/python3.10/dist-packages (from stevedore>=3.0.0->qiskit) (6.1.0)\n",
            "Requirement already satisfied: mpmath<1.4,>=1.1.0 in /usr/local/lib/python3.10/dist-packages (from sympy>=1.3->qiskit) (1.3.0)\n",
            "Collecting qiskit-aer\n",
            "  Downloading qiskit_aer-0.15.1-cp310-cp310-manylinux_2_17_x86_64.manylinux2014_x86_64.whl.metadata (8.0 kB)\n",
            "Requirement already satisfied: qiskit>=1.1.0 in /usr/local/lib/python3.10/dist-packages (from qiskit-aer) (1.3.0)\n",
            "Requirement already satisfied: numpy>=1.16.3 in /usr/local/lib/python3.10/dist-packages (from qiskit-aer) (1.26.4)\n",
            "Requirement already satisfied: scipy>=1.0 in /usr/local/lib/python3.10/dist-packages (from qiskit-aer) (1.13.1)\n",
            "Requirement already satisfied: psutil>=5 in /usr/local/lib/python3.10/dist-packages (from qiskit-aer) (5.9.5)\n",
            "Requirement already satisfied: rustworkx>=0.15.0 in /usr/local/lib/python3.10/dist-packages (from qiskit>=1.1.0->qiskit-aer) (0.15.1)\n",
            "Requirement already satisfied: sympy>=1.3 in /usr/local/lib/python3.10/dist-packages (from qiskit>=1.1.0->qiskit-aer) (1.13.1)\n",
            "Requirement already satisfied: dill>=0.3 in /usr/local/lib/python3.10/dist-packages (from qiskit>=1.1.0->qiskit-aer) (0.3.9)\n",
            "Requirement already satisfied: python-dateutil>=2.8.0 in /usr/local/lib/python3.10/dist-packages (from qiskit>=1.1.0->qiskit-aer) (2.8.2)\n",
            "Requirement already satisfied: stevedore>=3.0.0 in /usr/local/lib/python3.10/dist-packages (from qiskit>=1.1.0->qiskit-aer) (5.4.0)\n",
            "Requirement already satisfied: typing-extensions in /usr/local/lib/python3.10/dist-packages (from qiskit>=1.1.0->qiskit-aer) (4.12.2)\n",
            "Requirement already satisfied: symengine<0.14,>=0.11 in /usr/local/lib/python3.10/dist-packages (from qiskit>=1.1.0->qiskit-aer) (0.13.0)\n",
            "Requirement already satisfied: six>=1.5 in /usr/local/lib/python3.10/dist-packages (from python-dateutil>=2.8.0->qiskit>=1.1.0->qiskit-aer) (1.16.0)\n",
            "Requirement already satisfied: pbr>=2.0.0 in /usr/local/lib/python3.10/dist-packages (from stevedore>=3.0.0->qiskit>=1.1.0->qiskit-aer) (6.1.0)\n",
            "Requirement already satisfied: mpmath<1.4,>=1.1.0 in /usr/local/lib/python3.10/dist-packages (from sympy>=1.3->qiskit>=1.1.0->qiskit-aer) (1.3.0)\n",
            "Downloading qiskit_aer-0.15.1-cp310-cp310-manylinux_2_17_x86_64.manylinux2014_x86_64.whl (12.3 MB)\n",
            "\u001b[2K   \u001b[90m━━━━━━━━━━━━━━━━━━━━━━━━━━━━━━━━━━━━━━━━\u001b[0m \u001b[32m12.3/12.3 MB\u001b[0m \u001b[31m46.5 MB/s\u001b[0m eta \u001b[36m0:00:00\u001b[0m\n",
            "\u001b[?25hInstalling collected packages: qiskit-aer\n",
            "Successfully installed qiskit-aer-0.15.1\n"
          ]
        }
      ]
    },
    {
      "cell_type": "code",
      "source": [
        "#other useful packages\n",
        "import math\n",
        "import matplotlib.pyplot as plt\n",
        "%matplotlib inline\n",
        "import numpy as np"
      ],
      "metadata": {
        "id": "GE43DGKUs4NQ"
      },
      "execution_count": 3,
      "outputs": []
    },
    {
      "cell_type": "code",
      "source": [
        "from qiskit import QuantumCircuit, ClassicalRegister, QuantumRegister\n",
        "from qiskit import transpile\n",
        "from qiskit_aer import AerSimulator\n",
        "from qiskit.providers.basic_provider import BasicProvider"
      ],
      "metadata": {
        "id": "nwpDYWMNo_DY"
      },
      "execution_count": 7,
      "outputs": []
    },
    {
      "cell_type": "markdown",
      "metadata": {
        "id": "c2SrYcAzWvr2"
      },
      "source": [
        "## Part 1: Encrypting and Decrypting a Message"
      ]
    },
    {
      "cell_type": "markdown",
      "metadata": {
        "id": "ISN-rAsOTHJi"
      },
      "source": [
        "### Pass Your Secret Message\n",
        "* **Key Length:** Ensure your encryption key is at least twice as long as your message .\n",
        "> If the key is shorter than the message, we will be forced to use parts of the key more than once.\n",
        "* **Key Reuse:** Avoid reusing key segments within a single encryption process, as this can introduce vulnerabilities.\n",
        "* **Message Length:** Shorter messages are generally more secure, as longer messages may require multiple key iterations, increasing the risk of pattern recognition.\n",
        "By adhering to these principles, you can significantly enhance the security of your encrypted messages.\n",
        "\n",
        "> Here, we can picked the initial key to be **x** times greater"
      ]
    },
    {
      "cell_type": "code",
      "execution_count": 12,
      "metadata": {
        "colab": {
          "base_uri": "https://localhost:8080/"
        },
        "id": "764bfF7mfd6e",
        "outputId": "92b8169a-0dfb-44b7-fda4-32476050859e"
      },
      "outputs": [
        {
          "output_type": "stream",
          "name": "stdout",
          "text": [
            "How many times greater the key len should be:\t3\n",
            "Your secret message:\t Shrey\n",
            "Initial key length:\t 15\n"
          ]
        }
      ],
      "source": [
        "#Super secret message\n",
        "mes = input('Enter Super secret message:\\t')\n",
        "x = int(input('How many times greater the key len should be:\\t'))\n",
        "print('Your secret message:\\t',mes)\n",
        "\n",
        "#initial size of key\n",
        "n = len(mes)*x\n",
        "\n",
        "#break up message into smaller parts if length > 10\n",
        "nlist = []\n",
        "for i in range(n//10):\n",
        "    nlist.append(10)\n",
        "if n%10 != 0:\n",
        "    nlist.append(n%10)\n",
        "\n",
        "print('Initial key length:\\t',n)"
      ]
    },
    {
      "cell_type": "markdown",
      "metadata": {
        "id": "j0Y9ZghAWzqk"
      },
      "source": [
        "### Part 1: Transfering data Using BB84 QKD\n",
        "**Scenario:**\n",
        "* Alice wants to send a secret message to Bob.\n",
        "* They need a shared secret key to encrypt and decrypt the message.\n",
        "* But, there's a risk that Eve, an eavesdropper, might be listening in.\n",
        "\n",
        "**Here's how QKD helps in this Scenario:**\n",
        "1. **Creating a Random Key:** Alice uses quantum mechanics to generate a random string of 0s and 1s – this is the initial secret key.\n",
        "2. **Turning Bits into Qubits:** Alice converts each bit of the key into a qubit (a quantum bit). Think of qubits as tiny particles that can be in multiple states at once.\n",
        "3. **Sending Qubits with a Twist:** Alice sends these qubits to Bob. But, she randomly applies a special operation (rotation) to some of them. This creates \"noise\" and makes the key appear random to anyone listening in.\n",
        "4. **Bob's Random Rotations:** Bob receives the qubits and also applies random rotations to some of them, but in the opposite direction of Alice's rotations.\n",
        "5. **Comparing Notes:** Alice and Bob publicly share information about which qubits they rotated. When they both performed the same operation on a qubit (either both rotated or both didn't), they know that qubit's original value made it to Bob safely.\n",
        "6. **Creating the Final Key:** Alice and Bob use this information to create their final secret key. They discard the qubits where their operations didn't match, as those might have been intercepted by Eve.\n",
        "**Why it Works:**\n",
        "* **Eve's Interference:** If Eve tries to intercept and measure the qubits, she'll disturb their quantum state. This disturbance will introduce errors that Alice and Bob can detect when they compare their rotations.\n",
        "* **Security Guarantee:** Because of the principles of quantum mechanics, Eve cannot perfectly copy or measure the qubits without altering them. This makes QKD a very secure way to share secret keys.\n",
        "In essence, QKD uses the weirdness of quantum mechanics to ensure that Alice and Bob can share a secret key without Eve knowing it, even if she tries to eavesdrop.\n",
        "\n",
        "<img src='https://github.com/qiskit-community/qiskit-community-tutorials/blob/a6206e42a770a04cb1f650b3b1a20ea1625152e4/awards/teach_me_qiskit_2018/quantum_cryptography_qkd/QKDnoEve.png?raw=1'>\n",
        "Here we see Alice sending the initial key to Bob. She sends her qubits and rotates them based on her rotation string. Bob rotates the incoming qubits based on his rotation string and measures the qubits."
      ]
    },
    {
      "cell_type": "markdown",
      "metadata": {
        "id": "xmDNctysTHJj"
      },
      "source": [
        "### Step 1: Alice Generates a Random Key\n",
        "For the Generating a super secret key to encrypt messages we will using the quantum mechanics!\n",
        "\n",
        "Imagine a special coin that can be heads and tails at the same time. Scientists call this \"superposition.\"\n",
        "\n",
        "Alice uses this trick with quantum particles to create a random string of 0s and 1s\n",
        "\n"
      ]
    },
    {
      "cell_type": "code",
      "execution_count": 13,
      "metadata": {
        "id": "F1eTyd6XTHJk"
      },
      "outputs": [],
      "source": [
        "# Make random strings of length string_length\n",
        "\n",
        "def randomStringGen(string_length):\n",
        "    output_list = []\n",
        "    output = ''\n",
        "    backend = AerSimulator()\n",
        "    circuits = ['rs']\n",
        "    n = string_length\n",
        "    temp_n = 10\n",
        "    temp_output = ''\n",
        "    for i in range(math.ceil(n/temp_n)):\n",
        "        #initialize quantum registers for circuit\n",
        "        q = QuantumRegister(temp_n, name='q')\n",
        "        c = ClassicalRegister(temp_n, name='c')\n",
        "        rs = QuantumCircuit(q, c, name='rs')\n",
        "\n",
        "        #create temp_n number of qubits all in superpositions\n",
        "        for i in range(temp_n):\n",
        "            rs.h(q[i]) #the .h gate is the Hadamard gate that makes superpositions\n",
        "            rs.measure(q[i],c[i])\n",
        "\n",
        "        #execute circuit and extract 0s and 1s from key\n",
        "        new_circuit = transpile(rs, backend)\n",
        "        result = backend.run(new_circuit, shots=1).result()\n",
        "        counts = result.get_counts(rs)\n",
        "        result_key = list(result.get_counts(rs).keys())\n",
        "        temp_output = result_key[0]\n",
        "        output += temp_output\n",
        "\n",
        "    #return output clipped to size of desired string length\n",
        "    return output[:n]"
      ]
    },
    {
      "cell_type": "code",
      "execution_count": 14,
      "metadata": {
        "colab": {
          "base_uri": "https://localhost:8080/"
        },
        "id": "ESW3Iz0yXCLn",
        "outputId": "5283ab4d-83c0-47e0-e6cb-9bc0a15a1292"
      },
      "outputs": [
        {
          "output_type": "stream",
          "name": "stdout",
          "text": [
            "Initial key:  101010111110001\n"
          ]
        }
      ],
      "source": [
        "key = randomStringGen(n)\n",
        "print('Initial key: ',key)"
      ]
    },
    {
      "cell_type": "markdown",
      "metadata": {
        "id": "92XYZDkEgCLg"
      },
      "source": [
        "### Steps 2-4: Send Alice's Qubits to Bob"
      ]
    },
    {
      "cell_type": "code",
      "execution_count": 15,
      "metadata": {
        "colab": {
          "base_uri": "https://localhost:8080/"
        },
        "id": "PUiuyPV7THJn",
        "outputId": "82acb1c7-cbaf-4526-bf75-c3670be12942"
      },
      "outputs": [
        {
          "output_type": "stream",
          "name": "stdout",
          "text": [
            "Alice's rotation string: 000010111001111\n",
            "Bob's rotation string:   101000000110100\n",
            "Bob's results:  100010001001010\n"
          ]
        }
      ],
      "source": [
        "#generate random rotation strings for Alice and Bob\n",
        "Alice_rotate = randomStringGen(n)\n",
        "Bob_rotate = randomStringGen(n)\n",
        "print(\"Alice's rotation string:\",Alice_rotate)\n",
        "print(\"Bob's rotation string:  \",Bob_rotate)\n",
        "backend = AerSimulator()\n",
        "shots = 1\n",
        "circuits = ['send_over']\n",
        "Bob_result = ''\n",
        "\n",
        "for ind,l in enumerate(nlist):\n",
        "    #define temp variables used in breaking up quantum program if message length > 10\n",
        "    if l < 10:\n",
        "        key_temp = key[10*ind:10*ind+l]\n",
        "        Ar_temp = Alice_rotate[10*ind:10*ind+l]\n",
        "        Br_temp = Bob_rotate[10*ind:10*ind+l]\n",
        "    else:\n",
        "        key_temp = key[l*ind:l*(ind+1)]\n",
        "        Ar_temp = Alice_rotate[l*ind:l*(ind+1)]\n",
        "        Br_temp = Bob_rotate[l*ind:l*(ind+1)]\n",
        "\n",
        "    #start up the quantum circuit information\n",
        "    q = QuantumRegister(l, name='q')\n",
        "    c = ClassicalRegister(l, name='c')\n",
        "    send_over = QuantumCircuit(q, c, name='send_over')\n",
        "\n",
        "    for i,j,k,n in zip(key_temp,Ar_temp,Br_temp,range(0,len(key_temp))):\n",
        "        i = int(i)\n",
        "        j = int(j)\n",
        "        k = int(k)\n",
        "        if i > 0:\n",
        "            send_over.x(q[n])\n",
        "        #Look at Alice's rotation string\n",
        "        if j > 0:\n",
        "            send_over.h(q[n])\n",
        "        #Look at Bob's rotation string\n",
        "        if k > 0:\n",
        "            send_over.h(q[n])\n",
        "        send_over.measure(q[n],c[n])\n",
        "\n",
        "    #execute quantum circuit\n",
        "    new_circuit = transpile([send_over], backend)\n",
        "    result_so = backend.run(new_circuit, shots=shots).result()\n",
        "    counts_so = result_so.get_counts(send_over)\n",
        "    result_key_so = list(result_so.get_counts(send_over).keys())\n",
        "    Bob_result += result_key_so[0][::-1]\n",
        "\n",
        "print(\"Bob's results: \", Bob_result)"
      ]
    },
    {
      "cell_type": "markdown",
      "metadata": {
        "id": "nAROLS7tTHJp"
      },
      "source": [
        "### Steps 5-6: Compare Rotation Strings and Make Keys"
      ]
    },
    {
      "cell_type": "code",
      "execution_count": 17,
      "metadata": {
        "colab": {
          "base_uri": "https://localhost:8080/"
        },
        "id": "SzpzVFZcTHJq",
        "outputId": "06a38ab5-b7ad-46bb-d10e-bb18374142a8"
      },
      "outputs": [
        {
          "output_type": "stream",
          "name": "stdout",
          "text": [
            "Alice's key: 0000\n",
            "Bob's key:   0000\n"
          ]
        }
      ],
      "source": [
        "def makeKey(rotation1,rotation2,results):\n",
        "    key = ''\n",
        "    count = 0\n",
        "    for i,j in zip(rotation1,rotation2):\n",
        "        if i == j:\n",
        "            key += results[count]\n",
        "        count += 1\n",
        "    return key\n",
        "\n",
        "Akey = makeKey(Bob_rotate,Alice_rotate,key)\n",
        "Bkey = makeKey(Bob_rotate,Alice_rotate,Bob_result)\n",
        "\n",
        "print(\"Alice's key:\",Akey)\n",
        "print(\"Bob's key:  \",Bkey)"
      ]
    },
    {
      "cell_type": "markdown",
      "metadata": {
        "id": "kgtn-jXxTHJs"
      },
      "source": [
        "### Pause\n",
        "We see that using only the public knowledge of Bob's and Alice's rotation strings, Alice and Bob can create the same identical key based on Alice's initial random key and Bob's results."
      ]
    },
    {
      "cell_type": "markdown",
      "metadata": {
        "id": "o6sBB8Fdha9Z"
      },
      "source": [
        "### Encrypt (and decrypt) using quantum key\n",
        "We can now use our secret key to encrypt and decrypt messages!! (of length less than the key)."
      ]
    },
    {
      "cell_type": "code",
      "execution_count": 18,
      "metadata": {
        "colab": {
          "base_uri": "https://localhost:8080/"
        },
        "id": "U2dl6qRHhXrD",
        "outputId": "ec9ac04c-57a3-4b5d-e66e-e299e8519fae"
      },
      "outputs": [
        {
          "output_type": "stream",
          "name": "stdout",
          "text": [
            "encoded message:   ³ÈÒÅ\n",
            "recovered message: Shre\n"
          ]
        }
      ],
      "source": [
        "#make key same length has message\n",
        "shortened_Akey = Akey[:len(mes)]\n",
        "encoded_m=''\n",
        "\n",
        "#encrypt message mes using encryption key final_key\n",
        "for m,k in zip(mes,shortened_Akey):\n",
        "    encoded_c = chr(ord(m) + 2*ord(k) % 256)\n",
        "    encoded_m += encoded_c\n",
        "print('encoded message:  ',encoded_m)\n",
        "\n",
        "#make key same length has message\n",
        "shortened_Bkey = Bkey[:len(mes)]\n",
        "\n",
        "#decrypt message mes using encryption key final_key\n",
        "result = ''\n",
        "for m,k in zip(encoded_m,shortened_Bkey):\n",
        "    encoded_c = chr(ord(m) - 2*ord(k) % 256)\n",
        "    result += encoded_c\n",
        "print('recovered message:',result)"
      ]
    },
    {
      "cell_type": "markdown",
      "metadata": {
        "id": "8oCyXZdDTHJv"
      },
      "source": [
        "## Part 2: Eve the Eavesdropper\n",
        "**Scenario:**\n",
        "Eve, the eavesdropper, is trying to intercept the quantum communication between Alice and Bob to steal their secret key.\n",
        "* **Steps:**\n",
        "1. **Eve Intercepts:** When Alice sends her qubits to Bob, Eve intercepts them and measures them. This is her attempt to gain information about the key.\n",
        "2. **Eve Deceives:** To avoid being detected, Eve prepares new qubits based on the results of her measurements and sends them to Bob. She hopes these qubits will mimic the original ones sent by Alice.\n",
        "3. **Key Generation:** Bob, unaware of Eve's interference, receives the qubits (from Eve) and performs his rotations and measurements, just as he would in a normal QKD exchange. Alice and Bob then use their rotation information to create their respective keys.\n",
        "4. **Spot Check:** Alice and Bob randomly select a portion of their keys to compare publicly. This is a crucial step to detect Eve's presence.\n",
        "5. **Eve Detected:** Because Eve's measurements disturbed the original qubits, there's a chance that the portions of Alice and Bob's keys won't match. If they find any discrepancies, they know Eve was eavesdropping and their communication is compromised.\n",
        "6. **Key Refinement:** If Eve is detected, Alice and Bob discard the publicly shared portions of their keys, as they are no longer secret. They use the remaining parts (which are hopefully long enough) to encrypt and decrypt their messages.\n",
        "\n",
        "\n",
        "<img src=\"https://github.com/qiskit-community/qiskit-community-tutorials/blob/a6206e42a770a04cb1f650b3b1a20ea1625152e4/awards/teach_me_qiskit_2018/quantum_cryptography_qkd/QKD.png?raw=1\">\n",
        "Here we see Alice sending her qubits, rotationing them based on her rotation string, and Eve intercepting the transmittion. Eve then sending her results onto Bob who--like normal--rotates and measures the qubits."
      ]
    },
    {
      "cell_type": "markdown",
      "metadata": {
        "id": "9EpsXR4jYaB3"
      },
      "source": [
        "### Step 1: Eve intercepts Alice's transmission\n",
        "\n",
        "The code below has Alice sending her qubits and Eve intercepting them. It then displays the results of Eve's measurements."
      ]
    },
    {
      "cell_type": "code",
      "execution_count": 19,
      "metadata": {
        "colab": {
          "base_uri": "https://localhost:8080/"
        },
        "id": "qNwOqHMHTHJw",
        "outputId": "cdf91f57-4d04-4381-9dce-e3e0b0ec381f"
      },
      "outputs": [
        {
          "output_type": "stream",
          "name": "stdout",
          "text": [
            "Eve's results:  101010001111011\n"
          ]
        }
      ],
      "source": [
        "backend = AerSimulator()\n",
        "shots = 1\n",
        "circuits = ['Eve']\n",
        "\n",
        "Eve_result = ''\n",
        "for ind,l in enumerate(nlist):\n",
        "    #define temp variables used in breaking up quantum program if message length > 10\n",
        "    if l < 10:\n",
        "        key_temp = key[10*ind:10*ind+l]\n",
        "        Ar_temp = Alice_rotate[10*ind:10*ind+l]\n",
        "    else:\n",
        "        key_temp = key[l*ind:l*(ind+1)]\n",
        "        Ar_temp = Alice_rotate[l*ind:l*(ind+1)]\n",
        "\n",
        "    #start up the quantum circuit information\n",
        "    q = QuantumRegister(l, name='q')\n",
        "    c = ClassicalRegister(l, name='c')\n",
        "    Eve = QuantumCircuit(q, c, name='Eve')\n",
        "\n",
        "    #prepare qubits based on key; add Hadamard gates based on Alice's and Bob's\n",
        "    #rotation strings\n",
        "    for i,j,n in zip(key_temp,Ar_temp,range(0,len(key_temp))):\n",
        "        i = int(i)\n",
        "        j = int(j)\n",
        "        if i > 0:\n",
        "            Eve.x(q[n])\n",
        "        if j > 0:\n",
        "            Eve.h(q[n])\n",
        "        Eve.measure(q[n],c[n])\n",
        "\n",
        "    #execute\n",
        "    new_circuit = transpile(Eve, backend)\n",
        "    result_eve = backend.run(new_circuit, shots=shots).result()\n",
        "    counts_eve = result_eve.get_counts()\n",
        "    result_key_eve = list(result_eve.get_counts().keys())\n",
        "    Eve_result += result_key_eve[0][::-1]\n",
        "\n",
        "print(\"Eve's results: \", Eve_result)"
      ]
    },
    {
      "cell_type": "markdown",
      "metadata": {
        "id": "MZ760LVOTHJy"
      },
      "source": [
        "### Step 2: Eve deceives Bob\n",
        "Eve sends her measured qubits on to Bob to deceive him! Since she doesn't know which of the qubits she measured were in a superposition or not, she doesn't even know whether to send the exact values she measured or opposite values. In the end, sending on the exact values is just as good a deception as mixing them up again."
      ]
    },
    {
      "cell_type": "code",
      "execution_count": 20,
      "metadata": {
        "colab": {
          "base_uri": "https://localhost:8080/"
        },
        "id": "oqC-K-LxTHJy",
        "outputId": "5e2428e1-f5aa-4e88-b7d8-7f99b827bedb"
      },
      "outputs": [
        {
          "output_type": "stream",
          "name": "stdout",
          "text": [
            "Bob's previous results (w/o Eve): 100010001001010\n",
            "Bob's results from Eve:\t\t  101010001011011\n"
          ]
        }
      ],
      "source": [
        "backend = AerSimulator()\n",
        "shots = 1\n",
        "circuits = ['Eve2']\n",
        "\n",
        "Bob_badresult = ''\n",
        "for ind,l in enumerate(nlist):\n",
        "    #define temp variables used in breaking up quantum program if message length > 10\n",
        "    if l < 10:\n",
        "        key_temp = key[10*ind:10*ind+l]\n",
        "        Eve_temp = Eve_result[10*ind:10*ind+l]\n",
        "        Br_temp = Bob_rotate[10*ind:10*ind+l]\n",
        "    else:\n",
        "        key_temp = key[l*ind:l*(ind+1)]\n",
        "        Eve_temp = Eve_result[l*ind:l*(ind+1)]\n",
        "        Br_temp = Bob_rotate[l*ind:l*(ind+1)]\n",
        "\n",
        "    #start up the quantum circuit information\n",
        "    q = QuantumRegister(l, name='q')\n",
        "    c = ClassicalRegister(l, name='c')\n",
        "    Eve2 = QuantumCircuit(q , c, name='Eve2')\n",
        "\n",
        "    #prepare qubits\n",
        "    for i,j,n in zip(Eve_temp,Br_temp,range(0,len(key_temp))):\n",
        "        i = int(i)\n",
        "        j = int(j)\n",
        "        if i > 0:\n",
        "            Eve2.x(q[n])\n",
        "        if j > 0:\n",
        "            Eve2.h(q[n])\n",
        "        Eve2.measure(q[n],c[n])\n",
        "\n",
        "    #execute\n",
        "    new_circuit = transpile(Eve2, backend)\n",
        "    result_eve = backend.run(new_circuit, shots=shots).result()\n",
        "    counts_eve = result_eve.get_counts()\n",
        "    result_key_eve = list(result_eve.get_counts().keys())\n",
        "    Bob_badresult += result_key_eve[0][::-1]\n",
        "\n",
        "print(\"Bob's previous results (w/o Eve):\",Bob_result)\n",
        "print(\"Bob's results from Eve:\\t\\t \",Bob_badresult)"
      ]
    },
    {
      "cell_type": "markdown",
      "metadata": {
        "id": "iDxhbKkwf8FV"
      },
      "source": [
        "### Step 4: Spot Check\n",
        "**The Spot Check:**\n",
        "\n",
        "* **Random Choice:** They randomly pick a few bits from their keys.\n",
        "* **Public Comparison:** They publicly reveal these bits.\n",
        "* **Spot the Difference:** If their bits match perfectly, it's likely Eve hasn't interfered. But if there's a mismatch, it's a red flag! Eve's meddling might have disturbed the delicate quantum state of the qubits.\n",
        "\n",
        "**The Check Key:**\n",
        "\n",
        "* To automate this process, they create a special \"check key.\" It's like a secret code that tells them which bits to compare. If the check key bit is a 1, they compare the corresponding bits in their keys.\n",
        "\n",
        "By using this spot check, Alice and Bob can ensure the security of their secret key, making their quantum communication truly secure."
      ]
    },
    {
      "cell_type": "code",
      "execution_count": 21,
      "metadata": {
        "colab": {
          "base_uri": "https://localhost:8080/"
        },
        "id": "GECxwnVZgsp-",
        "outputId": "a9366cf7-cf2e-40f4-ff52-ad763f926756"
      },
      "outputs": [
        {
          "output_type": "stream",
          "name": "stdout",
          "text": [
            "Alice's key:    0000\n",
            "Bob's key:      0000\n",
            "spots to check: 0101\n"
          ]
        }
      ],
      "source": [
        "#make keys for Alice and Bob\n",
        "Akey = makeKey(Bob_rotate,Alice_rotate,key)\n",
        "Bkey = makeKey(Bob_rotate,Alice_rotate,Bob_badresult)\n",
        "print(\"Alice's key:   \",Akey)\n",
        "print(\"Bob's key:     \",Bkey)\n",
        "\n",
        "check_key = randomStringGen(len(Akey))\n",
        "print('spots to check:',check_key)"
      ]
    },
    {
      "cell_type": "markdown",
      "metadata": {
        "id": "xnc9qJqAg0bC"
      },
      "source": [
        "### Steps 5-7: Compare strings and detect Eve\n",
        "Alice and Bob compare the subsections of their keys. If they notice any discrepancy, they know that Eve was trying to intercept their message. They create new keys by throwing away the parts they shared publicly. It's possible that by throwing these parts away, they will not have a key long enough to encrypt the message and they will have to try again."
      ]
    },
    {
      "cell_type": "code",
      "execution_count": 23,
      "metadata": {
        "colab": {
          "base_uri": "https://localhost:8080/"
        },
        "id": "gNZhVcCcgxx_",
        "outputId": "041fc393-dfb4-4735-dca6-600bb8fcc1d3"
      },
      "outputs": [
        {
          "output_type": "stream",
          "name": "stdout",
          "text": [
            "subset of Alice's key: 00\n",
            "subset of Bob's key:   00\n",
            "Eve escaped detection!\n",
            "new A and B keys:  00 00\n",
            "Your new key is not long enough.\n"
          ]
        }
      ],
      "source": [
        "#find which values in rotation string were used to make the key\n",
        "Alice_keyrotate = makeKey(Bob_rotate,Alice_rotate,Alice_rotate)\n",
        "Bob_keyrotate = makeKey(Bob_rotate,Alice_rotate,Bob_rotate)\n",
        "\n",
        "# Detect Eve's interference\n",
        "#extract a subset of Alice's key\n",
        "sub_Akey = ''\n",
        "sub_Arotate = ''\n",
        "count = 0\n",
        "for i,j in zip(Alice_rotate,Akey):\n",
        "    if int(check_key[count]) == 1:\n",
        "        sub_Akey += Akey[count]\n",
        "        sub_Arotate += Alice_keyrotate[count]\n",
        "    count += 1\n",
        "\n",
        "#extract a subset of Bob's key\n",
        "sub_Bkey = ''\n",
        "sub_Brotate = ''\n",
        "count = 0\n",
        "for i,j in zip(Bob_rotate,Bkey):\n",
        "    if int(check_key[count]) == 1:\n",
        "        sub_Bkey += Bkey[count]\n",
        "        sub_Brotate += Bob_keyrotate[count]\n",
        "    count += 1\n",
        "print(\"subset of Alice's key:\",sub_Akey)\n",
        "print(\"subset of Bob's key:  \",sub_Bkey)\n",
        "\n",
        "#compare Alice and Bob's key subsets\n",
        "secure = True\n",
        "for i,j in zip(sub_Akey,sub_Bkey):\n",
        "    if i == j:\n",
        "        secure = True\n",
        "    else:\n",
        "        secure = False\n",
        "        break;\n",
        "if not secure:\n",
        "    print('Eve detected!')\n",
        "else:\n",
        "    print('Eve escaped detection!')\n",
        "\n",
        "#sub_Akey and sub_Bkey are public knowledge now, so we remove them from Akey and Bkey\n",
        "if secure:\n",
        "    new_Akey = ''\n",
        "    new_Bkey = ''\n",
        "    for index,i in enumerate(check_key):\n",
        "        if int(i) == 0:\n",
        "            new_Akey += Akey[index]\n",
        "            new_Bkey += Bkey[index]\n",
        "    print('new A and B keys: ',new_Akey,new_Bkey)\n",
        "    if(len(mes)>len(new_Akey)):\n",
        "        print('Your new key is not long enough.')"
      ]
    },
    {
      "cell_type": "markdown",
      "metadata": {
        "id": "cTmL1IqZn9oB"
      },
      "source": [
        "## Probability of Detecting Eve\n",
        "The longer the key, the more likely you will detect Eve. In fact, the probability goes up as a function of $1 - (3/4)^n$ where n is the number of bits Alice and Bob compare in their spot check. So, the longer the key, the more bits you can use to compare and the more likely you will detect Eve."
      ]
    },
    {
      "cell_type": "code",
      "execution_count": 22,
      "metadata": {
        "id": "krVuYUSzn9oB",
        "outputId": "1ce849f6-208e-47da-e22d-d5fbeb3b1e37",
        "colab": {
          "base_uri": "https://localhost:8080/",
          "height": 472
        }
      },
      "outputs": [
        {
          "output_type": "display_data",
          "data": {
            "text/plain": [
              "<Figure size 640x480 with 1 Axes>"
            ],
            "image/png": "[encoded data removed]"
          },
          "metadata": {}
        }
      ],
      "source": [
        "x = np.arange(0., 30.0)\n",
        "y = 1-(3/4)**x\n",
        "plt.plot(y)\n",
        "plt.title('Probablity of detecting Eve')\n",
        "plt.xlabel('# of key bits compared')\n",
        "plt.ylabel('Probablity of detecting Eve')\n",
        "plt.show()"
      ]
    },
    {
      "cell_type": "code",
      "source": [],
      "metadata": {
        "id": "o-nDWlkpqcIt"
      },
      "execution_count": null,
      "outputs": []
    }
  ],
  "metadata": {
    "colab": {
      "provenance": [],
      "gpuType": "T4",
      "collapsed_sections": [
        "uI2XUqJI5gXy"
      ],
      "include_colab_link": true
    },
    "kernelspec": {
      "display_name": "Python 3",
      "name": "python3"
    },
    "language_info": {
      "codemirror_mode": {
        "name": "ipython",
        "version": 3
      },
      "file_extension": ".py",
      "mimetype": "text/x-python",
      "name": "python",
      "nbconvert_exporter": "python",
      "pygments_lexer": "ipython3",
      "version": "3.7.0"
    },
    "accelerator": "GPU"
  },
  "nbformat": 4,
  "nbformat_minor": 0
}