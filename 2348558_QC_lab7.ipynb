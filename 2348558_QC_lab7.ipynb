{
  "cells": [
    {
      "cell_type": "markdown",
      "metadata": {
        "id": "view-in-github",
        "colab_type": "text"
      },
      "source": [
        "<a href=\"https://colab.research.google.com/github/ShreyJais/Quantum-Computing/blob/main/2348558_QC_lab7.ipynb\" target=\"_parent\"><img src=\"https://colab.research.google.com/assets/colab-badge.svg\" alt=\"Open In Colab\"/></a>"
      ]
    },
    {
      "cell_type": "code",
      "source": [
        "!pip install qiskit qiskit_aer pylatexenc"
      ],
      "metadata": {
        "colab": {
          "base_uri": "https://localhost:8080/"
        },
        "id": "t1VeYMu4mV6F",
        "outputId": "23acabc7-e3dc-4c98-a605-b575a7ca203b"
      },
      "execution_count": null,
      "outputs": [
        {
          "output_type": "stream",
          "name": "stdout",
          "text": [
            "Requirement already satisfied: qiskit in /usr/local/lib/python3.10/dist-packages (1.3.0)\n",
            "Requirement already satisfied: qiskit_aer in /usr/local/lib/python3.10/dist-packages (0.15.1)\n",
            "Requirement already satisfied: pylatexenc in /usr/local/lib/python3.10/dist-packages (2.10)\n",
            "Requirement already satisfied: rustworkx>=0.15.0 in /usr/local/lib/python3.10/dist-packages (from qiskit) (0.15.1)\n",
            "Requirement already satisfied: numpy<3,>=1.17 in /usr/local/lib/python3.10/dist-packages (from qiskit) (1.26.4)\n",
            "Requirement already satisfied: scipy>=1.5 in /usr/local/lib/python3.10/dist-packages (from qiskit) (1.13.1)\n",
            "Requirement already satisfied: sympy>=1.3 in /usr/local/lib/python3.10/dist-packages (from qiskit) (1.13.1)\n",
            "Requirement already satisfied: dill>=0.3 in /usr/local/lib/python3.10/dist-packages (from qiskit) (0.3.9)\n",
            "Requirement already satisfied: python-dateutil>=2.8.0 in /usr/local/lib/python3.10/dist-packages (from qiskit) (2.8.2)\n",
            "Requirement already satisfied: stevedore>=3.0.0 in /usr/local/lib/python3.10/dist-packages (from qiskit) (5.4.0)\n",
            "Requirement already satisfied: typing-extensions in /usr/local/lib/python3.10/dist-packages (from qiskit) (4.12.2)\n",
            "Requirement already satisfied: symengine<0.14,>=0.11 in /usr/local/lib/python3.10/dist-packages (from qiskit) (0.13.0)\n",
            "Requirement already satisfied: psutil>=5 in /usr/local/lib/python3.10/dist-packages (from qiskit_aer) (5.9.5)\n",
            "Requirement already satisfied: six>=1.5 in /usr/local/lib/python3.10/dist-packages (from python-dateutil>=2.8.0->qiskit) (1.16.0)\n",
            "Requirement already satisfied: pbr>=2.0.0 in /usr/local/lib/python3.10/dist-packages (from stevedore>=3.0.0->qiskit) (6.1.0)\n",
            "Requirement already satisfied: mpmath<1.4,>=1.1.0 in /usr/local/lib/python3.10/dist-packages (from sympy>=1.3->qiskit) (1.3.0)\n"
          ]
        }
      ]
    },
    {
      "cell_type": "code",
      "execution_count": null,
      "metadata": {
        "id": "Ey7tZ7HimSGV"
      },
      "outputs": [],
      "source": [
        "from qiskit import QuantumCircuit\n",
        "from qiskit_aer import AerSimulator"
      ]
    },
    {
      "cell_type": "markdown",
      "metadata": {
        "id": "Wdsdc5RXmSGV"
      },
      "source": [
        "### Implementation of Deutsch's Algorithm (Query Algorithm)\n",
        "\n",
        "Deutsch's algorithm is a simple yet significant quantum algorithm demonstrating the power of quantum computation. It determines whether a given function \\( f \\) is *constant* (same output for all inputs) or *balanced* (different outputs for different inputs) using fewer function calls compared to classical methods."
      ]
    },
    {
      "cell_type": "markdown",
      "metadata": {
        "id": "UtcrdmYKmSGW"
      },
      "source": [
        "\n",
        "#### **Step 1: Define the Query Function Gates**\n",
        "The `deutsch_function` defines the four possible cases of a binary function \\( f: \\{0, 1\\} \\rightarrow \\{0, 1\\} \\). These cases are represented as quantum circuits."
      ]
    },
    {
      "cell_type": "code",
      "execution_count": null,
      "metadata": {
        "id": "Nk6EeCfjmSGW"
      },
      "outputs": [],
      "source": [
        "from qiskit import QuantumCircuit\n",
        "\n",
        "def deutsch_function(case: int):\n",
        "    if case not in [1, 2, 3, 4]:\n",
        "        raise ValueError(\"Case must be 1, 2, 3, or 4.\")\n",
        "\n",
        "    f = QuantumCircuit(2)\n",
        "    if case in [2, 3]:\n",
        "        f.cx(0, 1)\n",
        "    if case in [3, 4]:\n",
        "        f.x(1)\n",
        "    return f"
      ]
    },
    {
      "cell_type": "code",
      "execution_count": null,
      "metadata": {
        "colab": {
          "base_uri": "https://localhost:8080/",
          "height": 191
        },
        "id": "MJ4klyEamSGW",
        "outputId": "9fdd540b-b990-4365-8935-4b592a17273f"
      },
      "outputs": [
        {
          "output_type": "display_data",
          "data": {
            "text/plain": [
              "<Figure size 161.878x200.667 with 1 Axes>"
            ],
            "image/png": "[encoded data removed]"
          },
          "metadata": {}
        }
      ],
      "source": [
        "f = deutsch_function(1)\n",
        "display(f.draw(output='mpl'))"
      ]
    },
    {
      "cell_type": "markdown",
      "metadata": {
        "id": "2Cadzo3QmSGW"
      },
      "source": [
        "The circuit does not apply any quantum gates, representing a constant function."
      ]
    },
    {
      "cell_type": "code",
      "execution_count": null,
      "metadata": {
        "colab": {
          "base_uri": "https://localhost:8080/",
          "height": 191
        },
        "id": "ayHT078rmSGW",
        "outputId": "40a2b3af-cd56-4e80-9584-3baa5d528da0"
      },
      "outputs": [
        {
          "output_type": "display_data",
          "data": {
            "text/plain": [
              "<Figure size 203.683x200.667 with 1 Axes>"
            ],
            "image/png": "[encoded data removed]"
          },
          "metadata": {}
        }
      ],
      "source": [
        "f = deutsch_function(2)\n",
        "display(f.draw(output='mpl'))"
      ]
    },
    {
      "cell_type": "markdown",
      "metadata": {
        "id": "GdndBKM9mSGW"
      },
      "source": [
        "The circuit applies a CNOT gate, representing a balanced function."
      ]
    },
    {
      "cell_type": "code",
      "execution_count": null,
      "metadata": {
        "colab": {
          "base_uri": "https://localhost:8080/",
          "height": 191
        },
        "id": "WXsfuZcHmSGW",
        "outputId": "68585583-8277-4cec-d459-7904f6fc0416"
      },
      "outputs": [
        {
          "output_type": "display_data",
          "data": {
            "text/plain": [
              "<Figure size 287.294x200.667 with 1 Axes>"
            ],
            "image/png": "[encoded data removed]"
          },
          "metadata": {}
        }
      ],
      "source": [
        "f = deutsch_function(3)\n",
        "display(f.draw(output='mpl'))"
      ]
    },
    {
      "cell_type": "markdown",
      "metadata": {
        "id": "ctmj1YGCmSGW"
      },
      "source": [
        "The circuit applies a CNOT and an X gate, representing a balanced function."
      ]
    },
    {
      "cell_type": "code",
      "execution_count": null,
      "metadata": {
        "colab": {
          "base_uri": "https://localhost:8080/",
          "height": 191
        },
        "id": "ULnKLGBfmSGW",
        "outputId": "4e5c2674-cfc0-47f3-aa7a-842632f2421c"
      },
      "outputs": [
        {
          "output_type": "display_data",
          "data": {
            "text/plain": [
              "<Figure size 203.683x200.667 with 1 Axes>"
            ],
            "image/png": "[encoded data removed]"
          },
          "metadata": {}
        }
      ],
      "source": [
        "f = deutsch_function(4)\n",
        "display(f.draw(output='mpl'))"
      ]
    },
    {
      "cell_type": "markdown",
      "metadata": {
        "id": "Js4sX1GymSGW"
      },
      "source": [
        "The circuit applies an X gate to the second qubit, representing a constant function.\n",
        "\n",
        "---"
      ]
    },
    {
      "cell_type": "markdown",
      "metadata": {
        "id": "jJdBFmNCmSGW"
      },
      "source": [
        "#### **Step 2: Compile the Complete Circuit**\n",
        "The algorithm uses an auxiliary qubit (set to \\(|1\\rangle\\)) to interact with the function and applies Hadamard gates to create superposition."
      ]
    },
    {
      "cell_type": "code",
      "execution_count": null,
      "metadata": {
        "id": "uJqqrtGCmSGW"
      },
      "outputs": [],
      "source": [
        "def compile_circuit(function: QuantumCircuit):\n",
        "\n",
        "    n = function.num_qubits - 1\n",
        "    qc = QuantumCircuit(n+1, n)\n",
        "\n",
        "    qc.x(n)\n",
        "    qc.h(range(n+1))\n",
        "\n",
        "    qc.barrier()\n",
        "    qc.compose(function, inplace=True)\n",
        "    qc.barrier()\n",
        "\n",
        "    qc.h(range(n))\n",
        "    qc.measure(range(n), range(n))\n",
        "\n",
        "    return qc"
      ]
    },
    {
      "cell_type": "code",
      "execution_count": null,
      "metadata": {
        "colab": {
          "base_uri": "https://localhost:8080/",
          "height": 255
        },
        "id": "3fhr3nMtmSGW",
        "outputId": "fbac1bd7-8afe-45af-ec86-45d609636bb6"
      },
      "outputs": [
        {
          "output_type": "display_data",
          "data": {
            "text/plain": [
              "<Figure size 621.739x284.278 with 1 Axes>"
            ],
            "image/png": "[encoded data removed]"
          },
          "metadata": {}
        }
      ],
      "source": [
        "full_circuit = compile_circuit(deutsch_function(1))\n",
        "display(full_circuit.draw(output='mpl'))"
      ]
    },
    {
      "cell_type": "markdown",
      "metadata": {
        "id": "nB4H_p8xmSGW"
      },
      "source": [
        "**Case 1: Constant Function $ (f(0) = 0, f(1) = 0) $**\n",
        "- The oracle does **nothing** to the qubits because $ ( f(x) = 0 ) $ for all inputs.\n",
        "- The circuit design reflects this by omitting gates in the oracle.\n",
        "- After the Hadamard gates, interference ensures the measurement result on $ q_0 $ is always $|0\\rangle$, confirming the function is constant.\n",
        "\n",
        "---"
      ]
    },
    {
      "cell_type": "code",
      "execution_count": null,
      "metadata": {
        "colab": {
          "base_uri": "https://localhost:8080/",
          "height": 255
        },
        "id": "2_S08nFYmSGW",
        "outputId": "a72ca789-b9ec-452c-b5d7-0b78ffe3cdcf"
      },
      "outputs": [
        {
          "output_type": "display_data",
          "data": {
            "text/plain": [
              "<Figure size 705.35x284.278 with 1 Axes>"
            ],
            "image/png": "[encoded data removed]"
          },
          "metadata": {}
        }
      ],
      "source": [
        "full_circuit = compile_circuit(deutsch_function(2))\n",
        "display(full_circuit.draw(output='mpl'))"
      ]
    },
    {
      "cell_type": "markdown",
      "metadata": {
        "id": "sfU4uahbmSGW"
      },
      "source": [
        "\n",
        "\n",
        "**Case 2: Balanced Function $(f(0) = 0, f(1) = 1)$**\n",
        "- The oracle applies a **CNOT gate** $( CX )$ to flip $ q_1 $ (the auxiliary qubit) when $ q_0 = 1 $.\n",
        "- This encodes the balanced nature of $ f(x) $ into the quantum state.\n",
        "- After applying Hadamard on $ q_0 $, the interference produces $|1\\rangle$ on measurement, identifying the function as balanced.\n",
        "\n",
        "---\n",
        "\n"
      ]
    },
    {
      "cell_type": "code",
      "execution_count": null,
      "metadata": {
        "colab": {
          "base_uri": "https://localhost:8080/",
          "height": 255
        },
        "id": "0O5eHDLzmSGX",
        "outputId": "27de1739-1fd0-4a55-fb08-daae999822f3"
      },
      "outputs": [
        {
          "output_type": "display_data",
          "data": {
            "text/plain": [
              "<Figure size 788.961x284.278 with 1 Axes>"
            ],
            "image/png": "[encoded data removed]"
          },
          "metadata": {}
        }
      ],
      "source": [
        "full_circuit = compile_circuit(deutsch_function(3))\n",
        "display(full_circuit.draw(output='mpl'))"
      ]
    },
    {
      "cell_type": "markdown",
      "metadata": {
        "id": "egHXmkjYmSGX"
      },
      "source": [
        "**Case 3: Balanced Function $(f(0) = 1, f(1) = 0)$**\n",
        "- The oracle uses a combination of **CNOT** $( CX )$ and $( X )$ gates to flip $( q_1 )$ and invert the outputs. This ensures $( f(0) \\neq f(1) )$, reflecting a balanced function.\n",
        "- The circuit design is distinct, with both gates encoding the specific balanced behavior of case 3.\n",
        "- Measurement of $( q_0 )$ after interference produces $|1\\rangle$, correctly identifying the function as balanced.\n",
        "\n",
        "---\n",
        "\n"
      ]
    },
    {
      "cell_type": "code",
      "execution_count": null,
      "metadata": {
        "colab": {
          "base_uri": "https://localhost:8080/",
          "height": 255
        },
        "id": "FCqMYvSamSGX",
        "outputId": "c28e2ee0-63c8-4fcd-e0fa-182756c9f20a"
      },
      "outputs": [
        {
          "output_type": "display_data",
          "data": {
            "text/plain": [
              "<Figure size 705.35x284.278 with 1 Axes>"
            ],
            "image/png": "[encoded data removed]"
          },
          "metadata": {}
        }
      ],
      "source": [
        "full_circuit = compile_circuit(deutsch_function(4))\n",
        "display(full_circuit.draw(output='mpl'))"
      ]
    },
    {
      "cell_type": "markdown",
      "metadata": {
        "id": "9S9fqNP0mSGX"
      },
      "source": [
        "**Case 4: Constant Function $(f(0) = 1, f(1) = 1)$**\n",
        "- The oracle applies a single $( X )$ gate to flip $( q_1 )$, ensuring the function outputs $( 1 )$ for all inputs.\n",
        "- The simplicity of the circuit highlights that $( f(x) )$ is constant.\n",
        "- After interference, $( q_0 )$ measures to $|0\\rangle$, confirming the constant nature of the function.\n",
        "\n",
        "---"
      ]
    },
    {
      "cell_type": "markdown",
      "metadata": {
        "id": "_1yi_U70mSGX"
      },
      "source": [
        "#### **Step 3: Execute the Algorithm**\n",
        "Finally, execute the circuit on a simulator and interpret the result."
      ]
    },
    {
      "cell_type": "code",
      "execution_count": null,
      "metadata": {
        "id": "hYzDx_t2mSGX"
      },
      "outputs": [],
      "source": [
        "def deutsch_algorithm(function: QuantumCircuit):\n",
        "    qc = compile_circuit(function)\n",
        "\n",
        "    simulator = AerSimulator()\n",
        "    result = simulator.run(qc, shots=1, memory=True).result()\n",
        "\n",
        "    measurements = result.get_memory()\n",
        "    if measurements[0] == \"0\":\n",
        "        return \"constant\"\n",
        "    return \"balanced\""
      ]
    },
    {
      "cell_type": "code",
      "execution_count": null,
      "metadata": {
        "colab": {
          "base_uri": "https://localhost:8080/",
          "height": 209
        },
        "id": "pSMGyCS4mSGX",
        "outputId": "a52b77a5-c20b-4898-df07-850c2448e6a1"
      },
      "outputs": [
        {
          "output_type": "display_data",
          "data": {
            "text/plain": [
              "<Figure size 161.878x200.667 with 1 Axes>"
            ],
            "image/png": "[encoded data removed]"
          },
          "metadata": {}
        },
        {
          "output_type": "stream",
          "name": "stdout",
          "text": [
            "Result: constant\n"
          ]
        }
      ],
      "source": [
        "f = deutsch_function(1)\n",
        "display(f.draw(output=\"mpl\"))\n",
        "\n",
        "result = deutsch_algorithm(f)\n",
        "print(\"Result:\", result)"
      ]
    },
    {
      "cell_type": "markdown",
      "metadata": {
        "id": "zVEoZnxYmSGX"
      },
      "source": [
        "**Algorithm Outcome**:\n",
        "  - The interference results in \\( q_0 = 0 \\), indicating that the function is **constant**."
      ]
    },
    {
      "cell_type": "code",
      "execution_count": null,
      "metadata": {
        "colab": {
          "base_uri": "https://localhost:8080/",
          "height": 209
        },
        "id": "n6Lpj43CmSGX",
        "outputId": "d1b05f93-fad8-4d45-e6f1-5899806c8039"
      },
      "outputs": [
        {
          "output_type": "display_data",
          "data": {
            "text/plain": [
              "<Figure size 203.683x200.667 with 1 Axes>"
            ],
            "image/png": "[encoded data removed]"
          },
          "metadata": {}
        },
        {
          "output_type": "stream",
          "name": "stdout",
          "text": [
            "Result: balanced\n"
          ]
        }
      ],
      "source": [
        "f = deutsch_function(2)\n",
        "display(f.draw(output=\"mpl\"))\n",
        "\n",
        "result = deutsch_algorithm(f)\n",
        "print(\"Result:\", result)"
      ]
    },
    {
      "cell_type": "markdown",
      "metadata": {
        "id": "12wlelgPmSGX"
      },
      "source": [
        "**Algorithm Outcome**:\n",
        "  - After interference, \\( q_0 \\) measures as \\(|1\\rangle\\), identifying the function as **balanced**."
      ]
    },
    {
      "cell_type": "code",
      "execution_count": null,
      "metadata": {
        "colab": {
          "base_uri": "https://localhost:8080/",
          "height": 209
        },
        "id": "DRBQVMg2mSGX",
        "outputId": "03221977-f722-4ef3-f612-47857fdafa55"
      },
      "outputs": [
        {
          "output_type": "display_data",
          "data": {
            "text/plain": [
              "<Figure size 287.294x200.667 with 1 Axes>"
            ],
            "image/png": "[encoded data removed]"
          },
          "metadata": {}
        },
        {
          "output_type": "stream",
          "name": "stdout",
          "text": [
            "Result: balanced\n"
          ]
        }
      ],
      "source": [
        "f = deutsch_function(3)\n",
        "display(f.draw(output=\"mpl\"))\n",
        "\n",
        "result = deutsch_algorithm(f)\n",
        "print(\"Result:\", result)"
      ]
    },
    {
      "cell_type": "markdown",
      "metadata": {
        "id": "mW1ukJu-mSGX"
      },
      "source": [
        "**Algorithm Outcome:**\n",
        "- The Hadamard gates prepare a superposition of states, and the oracle modifies the auxiliary qubit based on the balanced function's behavior.\n",
        "- After the final Hadamard and measurement on \\( q_0 \\), interference ensures that the outcome is \\(|1\\rangle\\), correctly identifying the function as **balanced**."
      ]
    },
    {
      "cell_type": "code",
      "execution_count": null,
      "metadata": {
        "colab": {
          "base_uri": "https://localhost:8080/",
          "height": 209
        },
        "id": "e8u04ZJ1mSGX",
        "outputId": "7709abc6-a986-40d3-a394-3a01b67e1b5f"
      },
      "outputs": [
        {
          "output_type": "display_data",
          "data": {
            "text/plain": [
              "<Figure size 203.683x200.667 with 1 Axes>"
            ],
            "image/png": "[encoded data removed]"
          },
          "metadata": {}
        },
        {
          "output_type": "stream",
          "name": "stdout",
          "text": [
            "Result: constant\n"
          ]
        }
      ],
      "source": [
        "f = deutsch_function(4)\n",
        "display(f.draw(output=\"mpl\"))\n",
        "\n",
        "result = deutsch_algorithm(f)\n",
        "print(\"Result:\", result)"
      ]
    },
    {
      "cell_type": "markdown",
      "metadata": {
        "id": "DiI2juNWmSGX"
      },
      "source": [
        "**Algorithm Outcome**:\n",
        "  - Interference results in $( q_0 = 0 )$, confirming that the function is **constant**."
      ]
    },
    {
      "cell_type": "markdown",
      "metadata": {
        "id": "E06TTC6umSGX"
      },
      "source": [
        "### Summary:\n",
        "\n",
        "| **Case** | **Oracle Design** | **Function Type** | **Result** |\n",
        "|----------|--------------------|-------------------|------------|\n",
        "| 1        | No gates           | Constant          | 0          |\n",
        "| 2        | CNOT only          | Balanced          | 1          |\n",
        "| 3        | CNOT + \\( X \\)     | Balanced          | 1          |\n",
        "| 4        | \\( X \\) only       | Constant          | 0          |\n",
        "\n",
        "Each case is uniquely represented by its oracle and correctly classified by the quantum circuit through interference and measurement."
      ]
    },
    {
      "cell_type": "markdown",
      "metadata": {
        "id": "dpXNyf3rmSGX"
      },
      "source": [
        "### **Inference:**\n",
        "\n",
        "1. **Efficiency of Deutsch's Algorithm**: The algorithm demonstrates how quantum computation can distinguish between constant and balanced functions with a single query to the oracle, showcasing the power of quantum interference and superposition compared to classical methods requiring two queries.\n",
        "\n",
        "2. **Circuit Design and Oracle Encoding**: The oracle's design plays a crucial role in defining the nature of the function. The specific gates used (e.g., \\( CX \\), \\( X \\)) encode whether the function is constant or balanced, highlighting the flexibility of quantum circuits to represent diverse logical behaviors.\n",
        "\n",
        "3. **Outcome Interpretation through Measurement**: The final measurement of the input qubit (\\( q_0 \\)) directly determines the function type: a result of $ |0\\rangle $ indicates a constant function, while $ |1\\rangle $ confirms a balanced function, validating the algorithm's correctness and reliability in functional classification."
      ]
    },
    {
      "cell_type": "code",
      "source": [],
      "metadata": {
        "id": "lPRspZfanCVM"
      },
      "execution_count": null,
      "outputs": []
    }
  ],
  "metadata": {
    "kernelspec": {
      "display_name": ".venv",
      "language": "python",
      "name": "python3"
    },
    "language_info": {
      "codemirror_mode": {
        "name": "ipython",
        "version": 3
      },
      "file_extension": ".py",
      "mimetype": "text/x-python",
      "name": "python",
      "nbconvert_exporter": "python",
      "pygments_lexer": "ipython3",
      "version": "3.11.7"
    },
    "colab": {
      "provenance": [],
      "name": "2348558_QC_lab7.ipynb",
      "include_colab_link": true
    }
  },
  "nbformat": 4,
  "nbformat_minor": 0
}